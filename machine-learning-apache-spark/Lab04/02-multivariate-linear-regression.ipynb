{
 "cells": [
  {
   "cell_type": "code",
   "execution_count": null,
   "metadata": {},
   "outputs": [],
   "source": [
    "# (1) Import the required Python dependencies\n",
    "%matplotlib inline\n",
    "import matplotlib.pyplot as plt\n",
    "import pandas as pd\n",
    "from pyspark import SparkContext, SparkConf\n",
    "from pyspark.sql import SQLContext\n",
    "from pyspark.ml.feature import VectorAssembler\n",
    "from pyspark.ml.regression import LinearRegression\n",
    "from pyspark.ml.evaluation import RegressionEvaluator"
   ]
  },
  {
   "cell_type": "code",
   "execution_count": null,
   "metadata": {},
   "outputs": [],
   "source": [
    "# (2) Instantiate a Spark Context\n",
    "conf = SparkConf().setMaster(\"local\").setAppName(\"Multivariate Linear Regression - Bike Sharing\")\n",
    "sc = SparkContext(conf=conf)\n",
    "sqlContext = SQLContext(sc)"
   ]
  },
  {
   "cell_type": "code",
   "execution_count": null,
   "metadata": {},
   "outputs": [],
   "source": [
    "# (3) Load the Bike Sharing dataset into a Spark DataFrame\n",
    "bike_sharing_df = sqlContext.read.format('com.databricks.spark.csv').options(header = 'true', inferschema = 'true').load('./data/bike-sharing-data/day.csv')\n",
    "bike_sharing_df.show(5)"
   ]
  },
  {
   "cell_type": "code",
   "execution_count": null,
   "metadata": {},
   "outputs": [],
   "source": [
    "# (4) Calculate the level of Correlation between the relevant Independent Variables and the Dependent Variable\n",
    "independent_variables = ['season', 'yr', 'mnth', 'holiday', 'weekday', 'workingday', 'weathersit', 'temp', 'atemp', 'hum', 'windspeed']\n",
    "dependent_variable = ['cnt']\n",
    "bike_sharing_df = bike_sharing_df.select( independent_variables + dependent_variable ) \n",
    "for i in bike_sharing_df.columns:\n",
    "        print( \"Correlation to CNT for \", i, bike_sharing_df.stat.corr('cnt', i))"
   ]
  },
  {
   "cell_type": "code",
   "execution_count": null,
   "metadata": {},
   "outputs": [],
   "source": [
    "# (5) Generate Input Feature Vectors from the Raw Spark DataFrame\n",
    "multivariate_feature_columns = ['season', 'yr', 'mnth', 'temp', 'atemp']\n",
    "multivariate_label_column = 'cnt'\n",
    "vector_assembler = VectorAssembler(inputCols = multivariate_feature_columns, outputCol = 'features')\n",
    "bike_sharing_features_df = vector_assembler.transform(bike_sharing_df).select(['features', multivariate_label_column])\n",
    "bike_sharing_features_df.head(10)"
   ]
  },
  {
   "cell_type": "code",
   "execution_count": null,
   "metadata": {},
   "outputs": [],
   "source": [
    "# (6) Split the Raw DataFrame into a Training DataFrame and a Test DataFrame\n",
    "train_df, test_df = bike_sharing_features_df.randomSplit([0.75, 0.25], seed=12345)\n",
    "train_df.count(), test_df.count()"
   ]
  },
  {
   "cell_type": "code",
   "execution_count": null,
   "metadata": {},
   "outputs": [],
   "source": [
    "# (7) Train a Multivariate Linear Regression Model on the Training DataFrame\n",
    "linear_regression = LinearRegression(featuresCol = 'features', labelCol = multivariate_label_column)\n",
    "linear_regression_model = linear_regression.fit(train_df)"
   ]
  },
  {
   "cell_type": "code",
   "execution_count": null,
   "metadata": {},
   "outputs": [],
   "source": [
    "# (8) Output Multivariate Linear Regression Model Summary Statistics to evaluate the Training Model\n",
    "print(\"Model Coefficients: \" + str(linear_regression_model.coefficients))\n",
    "print(\"Intercept: \" + str(linear_regression_model.intercept))\n",
    "training_summary = linear_regression_model.summary\n",
    "print(\"RMSE: %f\" % training_summary.rootMeanSquaredError)\n",
    "print(\"R-SQUARED: %f\" % training_summary.r2)\n",
    "print(\"TRAINING DATASET DESCRIPTIVE SUMMARY: \")\n",
    "train_df.describe().show()\n",
    "print(\"TRAINING DATASET RESIDUALS: \")\n",
    "training_summary.residuals.show()"
   ]
  },
  {
   "cell_type": "code",
   "execution_count": null,
   "metadata": {},
   "outputs": [],
   "source": [
    "# (9) Apply the Trained Multivariate Linear Regression Model to the Test DataFrame to make predictions\n",
    "test_linear_regression_predictions_df = linear_regression_model.transform(test_df)\n",
    "print(\"TEST DATASET PREDICTIONS AGAINST ACTUAL LABEL: \")\n",
    "test_linear_regression_predictions_df.select(\"prediction\", multivariate_label_column, \"features\").show(10)"
   ]
  },
  {
   "cell_type": "code",
   "execution_count": null,
   "metadata": {},
   "outputs": [],
   "source": [
    "# (10) Evaluate the performance of our Linear Regression Model on the Test DataFrame\n",
    "test_summary = linear_regression_model.evaluate(test_df)\n",
    "print(\"RMSE on Test Data = %g\" % test_summary.rootMeanSquaredError)\n",
    "print(\"R-SQUARED on Test Data = %g\" % test_summary.r2)"
   ]
  },
  {
   "cell_type": "code",
   "execution_count": null,
   "metadata": {},
   "outputs": [],
   "source": [
    "# (11) Stop the Spark Context\n",
    "sc.stop()"
   ]
  }
 ],
 "metadata": {
  "kernelspec": {
   "display_name": "Python 3",
   "language": "python",
   "name": "python3"
  },
  "language_info": {
   "codemirror_mode": {
    "name": "ipython",
    "version": 3
   },
   "file_extension": ".py",
   "mimetype": "text/x-python",
   "name": "python",
   "nbconvert_exporter": "python",
   "pygments_lexer": "ipython3",
   "version": "3.6.12"
  }
 },
 "nbformat": 4,
 "nbformat_minor": 2
}
