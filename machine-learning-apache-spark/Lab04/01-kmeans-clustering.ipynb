{
 "cells": [
  {
   "cell_type": "code",
   "execution_count": null,
   "metadata": {},
   "outputs": [],
   "source": [
    "# (1) Import the required Python dependencies\n",
    "%matplotlib inline\n",
    "import matplotlib.pyplot as plt\n",
    "import numpy as np\n",
    "import pandas as pd\n",
    "from skimage import io\n",
    "from skimage import img_as_float\n",
    "\n",
    "from pyspark import SparkContext, SparkConf\n",
    "from pyspark.sql import SQLContext\n",
    "from pyspark.ml.feature import VectorAssembler\n",
    "from pyspark.ml.clustering import KMeans\n",
    "from pyspark.ml.evaluation import ClusteringEvaluator\n",
    "from pyspark.ml.linalg import Vectors\n",
    "from pyspark.ml.linalg import DenseVector"
   ]
  },
  {
   "cell_type": "code",
   "execution_count": null,
   "metadata": {},
   "outputs": [],
   "source": [
    "# (2) Instantiate a Spark Context\n",
    "conf = SparkConf().setMaster(\"local\").setAppName(\"K-Means Clustering - Image Segmentation\")\n",
    "sc = SparkContext(conf=conf)\n",
    "sqlContext = SQLContext(sc)"
   ]
  },
  {
   "cell_type": "code",
   "execution_count": null,
   "metadata": {},
   "outputs": [],
   "source": [
    "# (3) Load the MRI scan belonging to the HEALTHY brain\n",
    "mri_healthy_brain_image = io.imread('./data/mri-images-data/mri-healthy-brain.png')\n",
    "mri_healthy_brain_image_plot = plt.imshow(mri_healthy_brain_image, cmap='gray')\n",
    "plt.title(\"MRI Scan of a HEALTHY Brain to TRAIN our Unsupervised K-Means Clustering Model\\n\")"
   ]
  },
  {
   "cell_type": "code",
   "execution_count": null,
   "metadata": {},
   "outputs": [],
   "source": [
    "# (4) Convert our Training MRI Scan into a Matrix of pixel intensity values between 0 and 1\n",
    "mri_healthy_brain_matrix = img_as_float(mri_healthy_brain_image)\n",
    "print(\"Healthy MRI Scan - MATRIX of Pixel Intensity Values: \\n\")\n",
    "print(mri_healthy_brain_matrix)\n",
    "print(\"\\nHealthy MRI Scan - MATRIX Dimensions (width x height in px): \\n\")\n",
    "print(mri_healthy_brain_matrix.shape)"
   ]
  },
  {
   "cell_type": "code",
   "execution_count": null,
   "metadata": {},
   "outputs": [],
   "source": [
    "# (5) Convert the Matrix into a Flattened Vector i.e. Matrix of dimensions 1 x N\n",
    "mri_healthy_brain_2d_array = np.array(mri_healthy_brain_matrix).astype(float)\n",
    "mri_healthy_brain_1d_array = mri_healthy_brain_2d_array.ravel()\n",
    "mri_healthy_brain_vector = np.matrix(mri_healthy_brain_1d_array)\n",
    "\n",
    "print(\"Healthy MRI Scan - Flattened Vector i.e. Matrix of Dimensions 1 x N: \\n\")\n",
    "print(mri_healthy_brain_vector)\n",
    "print(\"\\nHealthy MRI Scan - Flattened Vector Dimensions: \\n\")\n",
    "print(mri_healthy_brain_vector.shape)"
   ]
  },
  {
   "cell_type": "code",
   "execution_count": null,
   "metadata": {},
   "outputs": [],
   "source": [
    "# (6) Convert the Flattened Vector into a Spark DataFrame where each Row corresponds to a single pixel intensity value\n",
    "mri_healthy_brain_vector_transposed = mri_healthy_brain_vector.reshape(\n",
    "    mri_healthy_brain_vector.shape[1], mri_healthy_brain_vector.shape[0])\n",
    "print(\"Healthy MRI Scan - Transposed Vector i.e. Matrix of Dimensions N x 1: \")\n",
    "print(mri_healthy_brain_vector_transposed)\n",
    "print(\"\\nHealthy MRI Scan - Transposed Vector Dimensions: \\n\")\n",
    "print(mri_healthy_brain_vector_transposed.shape)\n",
    "\n",
    "mri_healthy_brain_df = sqlContext.createDataFrame(pd.DataFrame(mri_healthy_brain_vector_transposed, columns=['pixel_intensity']))\n",
    "print(\"\\nHealthy MRI Scan - \\033[1m\\033[4mDISTRIBUTED\\033[0m Spark DataFrame of Pixel Intensity Values: \\n\")\n",
    "mri_healthy_brain_df.show()\n",
    "mri_healthy_brain_df.dtypes"
   ]
  },
  {
   "cell_type": "code",
   "execution_count": null,
   "metadata": {},
   "outputs": [],
   "source": [
    "# (7) Generate Input Feature Vectors from the Pixel Intensity Values Spark DataFrame\n",
    "feature_columns = ['pixel_intensity']\n",
    "vector_assembler = VectorAssembler(inputCols = feature_columns, outputCol = 'features')\n",
    "print(\"Healthy MRI Scan - Pixel Intensity Feature Vectors: \\n\")\n",
    "mri_healthy_brain_features_df = vector_assembler.transform(mri_healthy_brain_df).select('features')\n",
    "mri_healthy_brain_features_df.show()\n",
    "mri_healthy_brain_features_df.dtypes"
   ]
  },
  {
   "cell_type": "code",
   "execution_count": null,
   "metadata": {},
   "outputs": [],
   "source": [
    "# (8) Determine the optimal number of clusters K by examining the K-Means Cost for a range of K\n",
    "cost = np.zeros(20)\n",
    "for k in range(2, 20):\n",
    "    kmeans = KMeans().setK(k).setSeed(1).setFeaturesCol(\"features\")\n",
    "    model = kmeans.fit(mri_healthy_brain_features_df.sample(False, 0.1, seed=12345))\n",
    "    predictions = model.transform(mri_healthy_brain_features_df)\n",
    "    evaluator = ClusteringEvaluator()\n",
    "    silhouette = evaluator.evaluate(predictions)\n",
    "    #cost[k] = model.computeCost(mri_healthy_brain_features_df)\n",
    "\n",
    "fig, ax = plt.subplots(1, 1, figsize =(8, 6))\n",
    "ax.plot(range(2, 20),cost[2:20])\n",
    "ax.set_title('Optimal Number of Clusters K based on the K-Means Cost Function for a range of K')\n",
    "ax.set_xlabel('Number of Clusters K')\n",
    "ax.set_ylabel('K-Means Cost')"
   ]
  },
  {
   "cell_type": "code",
   "execution_count": null,
   "metadata": {},
   "outputs": [],
   "source": []
  },
  {
   "cell_type": "code",
   "execution_count": null,
   "metadata": {},
   "outputs": [],
   "source": [
    "# (9) Train a K-Means Clustering Model based on the Pixel Intensity Feature Vectors of a Healthy MRI Brain Scan\n",
    "k = 5\n",
    "kmeans = KMeans().setK(k).setSeed(12345).setFeaturesCol(\"features\")\n",
    "kmeans_model = kmeans.fit(mri_healthy_brain_features_df)\n",
    "kmeans_centers = kmeans_model.clusterCenters()\n",
    "print(\"Healthy MRI Scan - K-Means Cluster Centers: \\n\")\n",
    "for center in kmeans_centers:\n",
    "    print(center)"
   ]
  },
  {
   "cell_type": "code",
   "execution_count": null,
   "metadata": {},
   "outputs": [],
   "source": [
    "# (10) Assign Pixels to Clusters in the HEALTHY MRI Brain Scan Image and visualise these K Clusters\n",
    "mri_healthy_brain_clusters_df = kmeans_model.transform(mri_healthy_brain_features_df).select('features', 'prediction')\n",
    "print(\"Healthy MRI Scan - Pixels mapped to 1 ... K Clusters (K = %d): \\n\" % k)\n",
    "mri_healthy_brain_clusters_df.show()\n",
    "print(\"\\nHealthy MRI Scan - Cluster Visualisation: \\n\")\n",
    "mri_healthy_brain_clusters_matrix = mri_healthy_brain_clusters_df.select(\"prediction\").toPandas().values.reshape(\n",
    "    mri_healthy_brain_matrix.shape[0], mri_healthy_brain_matrix.shape[1])\n",
    "plt.imshow(mri_healthy_brain_clusters_matrix)\n",
    "plt.title(\"MRI Scan of a HEALTHY Brain mapped to K Clusters (K = %d)\\n\" % k)\n",
    "plt.show()"
   ]
  },
  {
   "cell_type": "code",
   "execution_count": null,
   "metadata": {},
   "outputs": [],
   "source": [
    "# (11) Load an MRI Scan belonging to another Brain to Test our K-Means Clustering Model\n",
    "mri_test_brain_image = io.imread('./data/mri-images-data/mri-test-brain.png')\n",
    "mri_test_brain_image_plot = plt.imshow(mri_test_brain_image, cmap='gray')\n",
    "plt.title(\"MRI Scan of another Brain to TEST our Unsupervised K-Means Clustering Model\\n\")"
   ]
  },
  {
   "cell_type": "code",
   "execution_count": null,
   "metadata": {},
   "outputs": [],
   "source": [
    "# (12) Apply the trained K-Means Clustering Model to the TEST MRI Scan\n",
    "# The following code can be parameterised via Python functions to reduce code duplication\n",
    "mri_test_brain_matrix = img_as_float(mri_test_brain_image)\n",
    "mri_test_brain_2d_array = np.array(mri_test_brain_matrix).astype(float)\n",
    "mri_test_brain_1d_array = mri_test_brain_2d_array.ravel()\n",
    "mri_test_brain_vector = np.matrix(mri_test_brain_1d_array)\n",
    "mri_test_brain_vector_transposed = mri_test_brain_vector.reshape(\n",
    "    mri_test_brain_vector.shape[1], mri_test_brain_vector.shape[0])\n",
    "mri_test_brain_df = sqlContext.createDataFrame(pd.DataFrame(mri_test_brain_vector_transposed, columns=['pixel_intensity']))\n",
    "mri_test_brain_features_df = vector_assembler.transform(mri_test_brain_df).select('features')\n",
    "\n",
    "mri_test_brain_clusters_df = kmeans_model.transform(mri_test_brain_features_df).select('features', 'prediction')\n",
    "print(\"\\Test MRI Scan - Cluster Visualisation: \\n\")\n",
    "mri_test_brain_clusters_matrix = mri_test_brain_clusters_df.select(\"prediction\").toPandas().values.reshape(\n",
    "    mri_test_brain_matrix.shape[0], mri_test_brain_matrix.shape[1])\n",
    "plt.imshow(mri_test_brain_clusters_matrix)\n",
    "plt.title(\"MRI Scan of a TEST Brain mapped to the previously TRAINED K Clusters (K = %d) showing potentially cancerous cells\\n\" % k)\n",
    "plt.show()"
   ]
  },
  {
   "cell_type": "code",
   "execution_count": null,
   "metadata": {},
   "outputs": [],
   "source": [
    "# (13) Stop the Spark Context\n",
    "sc.stop()"
   ]
  },
  {
   "cell_type": "code",
   "execution_count": null,
   "metadata": {},
   "outputs": [],
   "source": []
  },
  {
   "cell_type": "code",
   "execution_count": null,
   "metadata": {},
   "outputs": [],
   "source": []
  }
 ],
 "metadata": {
  "kernelspec": {
   "display_name": "Python 3",
   "language": "python",
   "name": "python3"
  },
  "language_info": {
   "codemirror_mode": {
    "name": "ipython",
    "version": 3
   },
   "file_extension": ".py",
   "mimetype": "text/x-python",
   "name": "python",
   "nbconvert_exporter": "python",
   "pygments_lexer": "ipython3",
   "version": "3.6.12"
  }
 },
 "nbformat": 4,
 "nbformat_minor": 4
}
