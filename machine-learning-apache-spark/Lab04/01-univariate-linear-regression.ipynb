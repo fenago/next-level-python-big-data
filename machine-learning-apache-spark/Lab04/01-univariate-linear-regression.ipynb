{
 "cells": [
  {
   "cell_type": "code",
   "execution_count": null,
   "metadata": {},
   "outputs": [],
   "source": [
    "# (1) Import the required Python dependencies\n",
    "%matplotlib inline\n",
    "import matplotlib.pyplot as plt\n",
    "import pandas as pd\n",
    "from pyspark import SparkContext, SparkConf\n",
    "from pyspark.sql import SQLContext\n",
    "from pyspark.ml.feature import VectorAssembler\n",
    "from pyspark.ml.regression import LinearRegression\n",
    "from pyspark.ml.evaluation import RegressionEvaluator"
   ]
  },
  {
   "cell_type": "code",
   "execution_count": null,
   "metadata": {},
   "outputs": [],
   "source": [
    "# (2) Load the Bike Sharing dataset (data/bike-sharing-data/day.csv) into a Pandas DataFrame\n",
    "bike_sharing_raw_df = pd.read_csv('./data/bike-sharing-data/day.csv', \n",
    "                                 delimiter = ',')\n",
    "bike_sharing_raw_df.head()"
   ]
  },
  {
   "cell_type": "code",
   "execution_count": null,
   "metadata": {},
   "outputs": [],
   "source": [
    "# (3.1) Raw Data Exploration - Plot normalized temperature (celsius) against count of total rental bikes\n",
    "bike_sharing_raw_df.plot.scatter(x='temp', y='cnt')"
   ]
  },
  {
   "cell_type": "code",
   "execution_count": null,
   "metadata": {},
   "outputs": [],
   "source": [
    "# (3.2) Raw Data Exploration - Plot normalized feeling temperature (celsius) against count of total rental bikes\n",
    "bike_sharing_raw_df.plot.scatter(x='atemp', y='cnt')"
   ]
  },
  {
   "cell_type": "code",
   "execution_count": null,
   "metadata": {},
   "outputs": [],
   "source": [
    "# (3.3) Raw Data Exploration - Plot normalized humidity against count of total rental bikes\n",
    "bike_sharing_raw_df.plot.scatter(x='hum', y='cnt')"
   ]
  },
  {
   "cell_type": "code",
   "execution_count": null,
   "metadata": {},
   "outputs": [],
   "source": [
    "# (3.4) Raw Data Exploration - Plot normalized wind speed against count of total rental bikes\n",
    "bike_sharing_raw_df.plot.scatter(x='windspeed', y='cnt')"
   ]
  },
  {
   "cell_type": "code",
   "execution_count": null,
   "metadata": {},
   "outputs": [],
   "source": [
    "# (4) Instantiate a Spark Context\n",
    "conf = SparkConf().setMaster(\"local\").setAppName(\"Univariate Linear Regression - Bike Sharing\")\n",
    "sc = SparkContext(conf=conf)\n",
    "sqlContext = SQLContext(sc)"
   ]
  },
  {
   "cell_type": "code",
   "execution_count": null,
   "metadata": {},
   "outputs": [],
   "source": [
    "# (5) Load the Bike Sharing dataset into a Spark DataFrame\n",
    "bike_sharing_df = sqlContext.read.format('com.databricks.spark.csv').options(header = 'true', inferschema = 'true').load('./data/bike-sharing-data/day.csv')\n",
    "bike_sharing_df.head(10)\n",
    "bike_sharing_df.printSchema()"
   ]
  },
  {
   "cell_type": "code",
   "execution_count": null,
   "metadata": {},
   "outputs": [],
   "source": [
    "# (6) Calculate standard statistical descriptive analytics on the raw Bike Sharing Spark DataFrame\n",
    "bike_sharing_df.describe().toPandas().transpose()"
   ]
  },
  {
   "cell_type": "code",
   "execution_count": null,
   "metadata": {},
   "outputs": [],
   "source": [
    "# (7) Explore a Spark DataFrame\n",
    "bike_sharing_df.toPandas().plot.scatter(x='atemp', y='cnt')"
   ]
  },
  {
   "cell_type": "code",
   "execution_count": null,
   "metadata": {},
   "outputs": [],
   "source": [
    "# (8) Generate Input Feature Vectors from the Raw Spark DataFrame\n",
    "univariate_feature_column = 'atemp'\n",
    "univariate_label_column = 'cnt'\n",
    "vector_assembler = VectorAssembler(inputCols = [univariate_feature_column], outputCol = 'features')\n",
    "bike_sharing_features_df = vector_assembler.transform(bike_sharing_df).select(['features', univariate_label_column])\n",
    "bike_sharing_features_df.head(10)"
   ]
  },
  {
   "cell_type": "code",
   "execution_count": null,
   "metadata": {},
   "outputs": [],
   "source": [
    "# (9) Split the Raw DataFrame into a Training DataFrame and a Test DataFrame\n",
    "train_df, test_df = bike_sharing_features_df.randomSplit([0.75, 0.25], seed=12345)\n",
    "train_df.count(), test_df.count()"
   ]
  },
  {
   "cell_type": "code",
   "execution_count": null,
   "metadata": {},
   "outputs": [],
   "source": [
    "# (10) Train a Linear Regression Model on the Training DataFrame\n",
    "linear_regression = LinearRegression(featuresCol = 'features', labelCol = univariate_label_column)\n",
    "linear_regression_model = linear_regression.fit(train_df)"
   ]
  },
  {
   "cell_type": "code",
   "execution_count": null,
   "metadata": {},
   "outputs": [],
   "source": [
    "# (11) Output Linear Regression Model Summary Statistics to evaluate the Training Model\n",
    "print(\"Model Coefficients: \" + str(linear_regression_model.coefficients))\n",
    "print(\"Intercept: \" + str(linear_regression_model.intercept))\n",
    "training_summary = linear_regression_model.summary\n",
    "print(\"RMSE: %f\" % training_summary.rootMeanSquaredError)\n",
    "print(\"R-SQUARED: %f\" % training_summary.r2)\n",
    "print(\"TRAINING DATASET DESCRIPTIVE SUMMARY: \")\n",
    "train_df.describe().show()\n",
    "print(\"TRAINING DATASET RESIDUALS: \")\n",
    "training_summary.residuals.show()"
   ]
  },
  {
   "cell_type": "code",
   "execution_count": null,
   "metadata": {},
   "outputs": [],
   "source": [
    "# (12) Apply the Trained Linear Regression Model to the Test DataFrame to make predictions\n",
    "test_linear_regression_predictions_df = linear_regression_model.transform(test_df)\n",
    "print(\"TEST DATASET PREDICTIONS AGAINST ACTUAL LABEL: \")\n",
    "test_linear_regression_predictions_df.select(\"prediction\", univariate_label_column, \"features\").show(10)"
   ]
  },
  {
   "cell_type": "code",
   "execution_count": null,
   "metadata": {},
   "outputs": [],
   "source": [
    "# (13) Evaluate the performance of our Linear Regression Model on the Test DataFrame using a Regression Evaluator\n",
    "linear_regression_evaluator_rmse = RegressionEvaluator(predictionCol = \"prediction\", labelCol = univariate_label_column, metricName = \"rmse\")\n",
    "linear_regression_evaluator_r2 = RegressionEvaluator(predictionCol = \"prediction\", labelCol = univariate_label_column, metricName = \"r2\")\n",
    "print(\"RMSE on Test Data = %g\" % linear_regression_evaluator_rmse.evaluate(test_linear_regression_predictions_df))\n",
    "print(\"R-SQUARED on Test Data = %g\" % linear_regression_evaluator_r2.evaluate(test_linear_regression_predictions_df))"
   ]
  },
  {
   "cell_type": "code",
   "execution_count": null,
   "metadata": {},
   "outputs": [],
   "source": [
    "# (14) Alternatively we can use the Test Summary Results\n",
    "test_summary = linear_regression_model.evaluate(test_df)\n",
    "print(\"RMSE on Test Data = %g\" % test_summary.rootMeanSquaredError)\n",
    "print(\"R-SQUARED on Test Data = %g\" % test_summary.r2)"
   ]
  },
  {
   "cell_type": "code",
   "execution_count": null,
   "metadata": {},
   "outputs": [],
   "source": [
    "# (15) Stop the Spark Context\n",
    "sc.stop()"
   ]
  }
 ],
 "metadata": {
  "kernelspec": {
   "display_name": "Python 3",
   "language": "python",
   "name": "python3"
  },
  "language_info": {
   "codemirror_mode": {
    "name": "ipython",
    "version": 3
   },
   "file_extension": ".py",
   "mimetype": "text/x-python",
   "name": "python",
   "nbconvert_exporter": "python",
   "pygments_lexer": "ipython3",
   "version": "3.6.12"
  }
 },
 "nbformat": 4,
 "nbformat_minor": 2
}
