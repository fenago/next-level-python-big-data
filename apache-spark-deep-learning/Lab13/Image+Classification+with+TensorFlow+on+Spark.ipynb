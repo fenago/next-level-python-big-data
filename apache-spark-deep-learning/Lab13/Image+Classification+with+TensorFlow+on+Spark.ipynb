{
 "cells": [
  {
   "cell_type": "code",
   "execution_count": null,
   "metadata": {},
   "outputs": [],
   "source": [
    "spark = SparkSession.builder \\\n",
    "   .master(\"local\") \\\n",
    "   .appName(\"ImageClassification\") \\\n",
    "   .config(\"spark.executor.memory\", \"6gb\") \\\n",
    "   .getOrCreate()"
   ]
  },
  {
   "cell_type": "code",
   "execution_count": null,
   "metadata": {},
   "outputs": [],
   "source": [
    "import pyspark.sql.functions as f\n",
    "import sparkdl as dl"
   ]
  },
  {
   "cell_type": "code",
   "execution_count": null,
   "metadata": {},
   "outputs": [],
   "source": [
    "dfMessi = dl.readImages('football/messi/').withColumn('label', f.lit(0))\n",
    "dfRonaldo = dl.readImages('football/ronaldo/').withColumn('label', f.lit(1))"
   ]
  },
  {
   "cell_type": "code",
   "execution_count": null,
   "metadata": {},
   "outputs": [],
   "source": [
    "dfMessi.show(n=10,truncate=False)"
   ]
  },
  {
   "cell_type": "code",
   "execution_count": null,
   "metadata": {},
   "outputs": [],
   "source": [
    "dfRonaldo.show(n=10,truncate=False)"
   ]
  },
  {
   "cell_type": "code",
   "execution_count": null,
   "metadata": {},
   "outputs": [],
   "source": [
    "trainDFmessi, testDFmessi = dfMessi.randomSplit([66.7, 33.3], seed =12)\n",
    "trainDFronaldo, testDFronaldo = dfRonaldo.randomSplit([66.7, 33.3], seed=12)"
   ]
  },
  {
   "cell_type": "code",
   "execution_count": null,
   "metadata": {},
   "outputs": [],
   "source": [
    "print('The number of images in trainDFmessi is {}'.format(trainDFmessi.toPandas().shape[0]))\n",
    "print('The number of images in testDFmessi is {}'.format(testDFmessi.toPandas().shape[0]))\n",
    "print('The number of images in trainDFronaldo is {}'.format(trainDFronaldo.toPandas().shape[0]))\n",
    "print('The number of images in testDFronaldo is {}'.format(testDFronaldo.toPandas().shape[0]))"
   ]
  },
  {
   "cell_type": "code",
   "execution_count": null,
   "metadata": {},
   "outputs": [],
   "source": [
    "trainDF = trainDFmessi.unionAll(trainDFronaldo)\n",
    "testDF = testDFmessi.unionAll(testDFronaldo)"
   ]
  },
  {
   "cell_type": "code",
   "execution_count": null,
   "metadata": {},
   "outputs": [],
   "source": [
    "print('The number of images in the training data is {}' .format(trainDF.toPandas().shape[0]))\n",
    "print('The number of images in the testing  data is {}' .format(testDF.toPandas().shape[0]))"
   ]
  },
  {
   "cell_type": "code",
   "execution_count": null,
   "metadata": {},
   "outputs": [],
   "source": [
    "from pyspark.ml.classification import LogisticRegression\n",
    "from pyspark.ml import Pipeline\n",
    "\n",
    "vectorizer = dl.DeepImageFeaturizer(inputCol=\"image\", outputCol=\"features\", modelName='InceptionV3')\n",
    "logreg = LogisticRegression(maxIter=30,labelCol = \"label\", featuresCol=\"features\")\n",
    "pipeline = Pipeline(stages=[vectorizer, logreg])\n",
    "\n",
    "pipeline_model = pipeline.fit(trainDF)"
   ]
  },
  {
   "cell_type": "code",
   "execution_count": null,
   "metadata": {},
   "outputs": [],
   "source": [
    "predictDF = pipeline_model.transform(testDF)\n",
    "predictDF.select('label', 'prediction').show(n = testDF.toPandas().shape[0], truncate=False)"
   ]
  },
  {
   "cell_type": "code",
   "execution_count": null,
   "metadata": {},
   "outputs": [],
   "source": [
    "predictDF.crosstab('prediction', 'label').show()"
   ]
  },
  {
   "cell_type": "code",
   "execution_count": null,
   "metadata": {},
   "outputs": [],
   "source": [
    "from pyspark.ml.evaluation import MulticlassClassificationEvaluator\n",
    "scoring = predictDF.select(\"prediction\", \"label\")\n",
    "accuracy_score = MulticlassClassificationEvaluator(metricName=\"accuracy\")\n",
    "rate = accuracy_score.evaluate(scoring)*100\n",
    "print(\"accuracy: {}%\" .format(round(rate,2)))"
   ]
  },
  {
   "cell_type": "code",
   "execution_count": null,
   "metadata": {},
   "outputs": [],
   "source": [
    "from pyspark.ml.evaluation import BinaryClassificationEvaluator\n",
    "\n",
    "binaryevaluator = BinaryClassificationEvaluator(rawPredictionCol=\"prediction\")\n",
    "binary_rate = binaryevaluator.evaluate(predictDF)*100\n",
    "print(\"accuracy: {}%\" .format(round(binary_rate,2)))"
   ]
  },
  {
   "cell_type": "code",
   "execution_count": null,
   "metadata": {},
   "outputs": [],
   "source": [
    "logregFT = LogisticRegression(\n",
    "    regParam=0.05, \n",
    "    elasticNetParam=0.3,\n",
    "    maxIter=15,labelCol = \"label\", featuresCol=\"features\")\n",
    "pipelineFT = Pipeline(stages=[vectorizer, logregFT])\n",
    "\n",
    "pipeline_model_FT = pipelineFT.fit(trainDF)"
   ]
  },
  {
   "cell_type": "code",
   "execution_count": null,
   "metadata": {},
   "outputs": [],
   "source": [
    "predictDF_FT = pipeline_model_FT.transform(testDF)\n",
    "predictDF_FT.crosstab('prediction', 'label').show()"
   ]
  },
  {
   "cell_type": "code",
   "execution_count": null,
   "metadata": {},
   "outputs": [],
   "source": [
    "binary_rate_FT = binaryevaluator.evaluate(predictDF_FT)*100\n",
    "print(\"accuracy: {}%\" .format(round(binary_rate_FT,2)))"
   ]
  }
 ],
 "metadata": {
  "kernelspec": {
   "display_name": "Python 3",
   "language": "python",
   "name": "python3"
  },
  "language_info": {
   "codemirror_mode": {
    "name": "ipython",
    "version": 3
   },
   "file_extension": ".py",
   "mimetype": "text/x-python",
   "name": "python",
   "nbconvert_exporter": "python",
   "pygments_lexer": "ipython3",
   "version": "3.6.12"
  }
 },
 "nbformat": 4,
 "nbformat_minor": 2
}
